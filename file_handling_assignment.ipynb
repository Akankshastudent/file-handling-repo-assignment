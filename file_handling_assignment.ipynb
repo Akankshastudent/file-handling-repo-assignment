{
  "nbformat": 4,
  "nbformat_minor": 0,
  "metadata": {
    "colab": {
      "provenance": []
    },
    "kernelspec": {
      "name": "python3",
      "display_name": "Python 3"
    },
    "language_info": {
      "name": "python"
    }
  },
  "cells": [
    {
      "cell_type": "markdown",
      "source": [
        "#What is the difference between interpreted and compiled languages\n",
        "\n",
        "interpreted language in which code is executed directly without a specific compilatioon of code are convert into machine language.\n",
        "it meance the code is executed line by line.\n",
        "ex. python.\n",
        "\n",
        "compiled language in souece code is transformed into the machine code by compiler\n",
        "ex. cpp, c,swift"
      ],
      "metadata": {
        "id": "0EdLs8QRxSEN"
      }
    },
    {
      "cell_type": "markdown",
      "source": [
        "#What is exception handling in Python\n",
        "\n",
        "exception handling is handling the errors in the code with the exception.\n",
        "generally something that disturbes or interupt the normal event that is exception.\n",
        "its disturbs the regular flow of code.\n"
      ],
      "metadata": {
        "id": "K1-yZdb3zJI4"
      }
    },
    {
      "cell_type": "markdown",
      "source": [
        "#What is the purpose of the finally block in exception handling\n",
        "\n",
        " finally block exit the code in exception handling\n",
        " if you dont written finally block it will anyways excetuted"
      ],
      "metadata": {
        "id": "td7ypNWfzJMQ"
      }
    },
    {
      "cell_type": "markdown",
      "source": [
        "#What is logging in Python\n",
        "logging is used in complex code for debug the code\n",
        "prit statement is used in script but in complex code it not supported,\n",
        "\n",
        "logging records the state and flow of your code /program/software\n",
        "\n",
        "it is used for understandinh and debugging of your code\n"
      ],
      "metadata": {
        "id": "2mO0_Ktr5r4y"
      }
    },
    {
      "cell_type": "markdown",
      "source": [
        "#What is the significance of the __del__ method in Python\n"
      ],
      "metadata": {
        "id": "RU6xjvU_8kER"
      }
    },
    {
      "cell_type": "markdown",
      "source": [
        "#What is the difference between import and from ... import in Python\n",
        "In Python, both import and from ... import are used to bring modules or specific items from modules into your code, but they work differently.\n",
        "import module\n",
        "Imports the entire module.\n",
        "\n",
        "To access functions, classes, or variables, you must use the module name as a prefix.\n",
        "\n",
        "from module import name\n",
        "\n",
        "Imports specific functions, classes, or variables from a module directly into your namespace.\n",
        "\n",
        "You can use them without the module prefix."
      ],
      "metadata": {
        "id": "8f4-tf1v9IZz"
      }
    },
    {
      "cell_type": "markdown",
      "source": [
        "#How can you handle multiple exceptions in Python\n",
        "we can handling the multiple exception by writing trhe except and multiple exception by commas(,) and else write the exception except as e .\n",
        "or else we can handle the exception by try and except methode."
      ],
      "metadata": {
        "id": "_La-z0DC-Tsp"
      }
    },
    {
      "cell_type": "markdown",
      "source": [
        "#What is the purpose of the with statement when handling files in Python\n",
        "you can used the with statement for handling the exception and you dont have to close the file by using close() statement.\n",
        "Purpose of with when handling files\n",
        "\n",
        "Automatic Resource Management\n",
        "Ensures the file is properly closed after the block of code is executed, even if an exception occurs.\n",
        "\n",
        "Without with, you would have to explicitly call file.close().\n"
      ],
      "metadata": {
        "id": "iLrj44Oc-T_p"
      }
    },
    {
      "cell_type": "markdown",
      "source": [
        "#What is the difference between multithreading and multiprocessing\n",
        "whenever multiple processor is used are called as multiprocessing\n",
        "multiple processor are there each process its own memory space and resources which are isolated from other processor.\n",
        "\n",
        "it having the truly parallal  one multiple cpu cores.\n",
        "(no GUI) is used.\n",
        "\n",
        "multithreding is happend on one processor ,thread shares same memory space of resources with their a process.\n",
        "\n",
        "this is truly concurrent."
      ],
      "metadata": {
        "id": "w8HdSaSR-UDH"
      }
    },
    {
      "cell_type": "markdown",
      "source": [
        "# What are the advantages of using logging in a program\n",
        "using logging in program for debug the code\n",
        "when the code is in huge formate then the print statement cannot used for best practices.\n",
        " it s useful for understanding and debuginh of your code .\n",
        " it shows how program beheves over time.\n",
        "\n",
        " logging supports differents levels of logging which helps to categorised msg baesd on their levels"
      ],
      "metadata": {
        "id": "_OlQgn_E-UL3"
      }
    },
    {
      "cell_type": "markdown",
      "source": [
        "#What is memory management in Python\n",
        "Memory management in Python refers to how Python allocates, uses, and frees memory for variables,\n",
        "objects, and data structures while a program runs.\n",
        "Python has a built-in system to handle memory automatically, so developers usually don’t need to manage it"
      ],
      "metadata": {
        "id": "Zs5Zk7nkHQKi"
      }
    },
    {
      "cell_type": "markdown",
      "source": [
        "#What are the basic steps involved in exception handling in Python\n",
        "frist we have to write try block inside that block, inside the try block you can write a suspicious block where we can having the error and then write the except block for handling the error"
      ],
      "metadata": {
        "id": "b55raJePHVjr"
      }
    },
    {
      "cell_type": "markdown",
      "source": [
        "#Why is memory management important in Python\n",
        "memory management is important to reduce space write the code properly for better understanding and reduces the numbers of lines in code."
      ],
      "metadata": {
        "id": "l5wjKCJ-HVxu"
      }
    },
    {
      "cell_type": "markdown",
      "source": [
        " #What is the role of try and except in exception handling\n",
        " in try block we write the suspicious code which is having multiple errors and except block we write the code that explains the error as accept exception as e or other element and we write the error name which occurs because of the try block\n",
        "\n"
      ],
      "metadata": {
        "id": "2X2hKsK7HV97"
      }
    },
    {
      "cell_type": "markdown",
      "source": [
        " #How does Python's garbage collection system work\n",
        " Python’s garbage collection (GC) system is what keeps your program from running out of memory by cleaning up objects that are no longer in use.\n"
      ],
      "metadata": {
        "id": "x-e-SoEHNxte"
      }
    },
    {
      "cell_type": "markdown",
      "source": [
        "# What is the purpose of the else block in exception handling\n",
        "else block helps in writing multiple exception and also helps to satisfy the condition of true and false.\n",
        "Keeps the “normal flow” code separate from the error handling code.\n",
        "Improves readability and makes it clear which code may raise an exception and which code should only run if everything went fine."
      ],
      "metadata": {
        "id": "_T9deMCsNxvt"
      }
    },
    {
      "cell_type": "markdown",
      "source": [
        "# What are the common logging levels in Python\n",
        "logging is used for debbuging the complex code.the logging module provides different logging levels to indicate the severity or importance of a log message.\n",
        "#DEBUG\n",
        "Lowest level.\n",
        "Detailed information, mainly useful for diagnostics and debugging.\n",
        "#INFO\n",
        "General events that confirm things are working as expected.\n",
        "#WARNING\n",
        "Something unexpected happened, or something might cause a problem in the future.\n",
        "The program still runs normally.\n",
        "#ERROR\n",
        "A serious problem that caused part of the program to fail.\n",
        "The program may still run, but some functionality is broken.\n",
        "#CRITICAL\n",
        "Highest level.\n",
        "A very serious error indicating the program may not be able to continue running."
      ],
      "metadata": {
        "id": "0e_umuyF6fHs"
      }
    },
    {
      "cell_type": "markdown",
      "source": [
        "#What is the difference between os.fork() and multiprocessing in Python\n",
        "\n",
        "| Feature      | `os.fork()`            | `multiprocessing`       |\n",
        "| ------------ | ---------------------- | ----------------------- |\n",
        "| Level        | Low-level system call  | High-level module       |\n",
        "| Platform     | Unix/Linux only        | Cross-platform          |\n",
        "| Data Sharing | Manual (pipes/sockets) | Built-in IPC tools      |\n",
        "| Ease of Use  | Complex                | Easy & Pythonic         |\n",
        "| Use Case     | Fine-grained control   | General multiprocessing |\n"
      ],
      "metadata": {
        "id": "Mh_vG0H21PbG"
      }
    },
    {
      "cell_type": "markdown",
      "source": [
        "#What is the importance of closing a file in Python\n",
        "if you open a file normally you have to write close statement for closing the file. without that you cannot see the written information in the existing file."
      ],
      "metadata": {
        "id": "G1NklUby1Peh"
      }
    },
    {
      "cell_type": "markdown",
      "source": [
        "#What is the difference between file.read() and file.readline() in Python\n",
        "file.read()\n",
        "\n",
        "Reads the entire file (or a given number of bytes).\n",
        "\n",
        "Returns a string with all the contents.\n",
        "\n",
        "    with open(\"example.txt\", \"r\") as f:\n",
        "    data = f.read()\n",
        "    print(data)\n",
        "    \n",
        "file.readline()\n",
        "\n",
        "Reads one line at a time (up to the newline \\n).\n",
        "\n",
        "Useful for processing large files line by line.\n",
        "\n",
        "    with open(\"example.txt\", \"r\") as f:\n",
        "    line = f.readline()\n",
        "    print(line)   # only first line\n"
      ],
      "metadata": {
        "id": "7fQ6RIkt1Pj0"
      }
    },
    {
      "cell_type": "markdown",
      "source": [
        "#What is the logging module in Python used for\n",
        "logging is used for debuging the code"
      ],
      "metadata": {
        "id": "hh35Qjb_1qdl"
      }
    },
    {
      "cell_type": "markdown",
      "source": [
        "#What is the os module in Python used for in file handling\n",
        "The **`os` module** in Python is used for **file and directory handling**.\n",
        "\n",
        "* **Files** → create, delete, rename, check existence, get size.\n",
        "* **Directories** → create, remove, list, change working directory.\n",
        "* **Paths** → join, split, get file name, get extension.\n",
        "\n",
        "In short: `os` lets you manage files, folders, and paths at the operating system level\n"
      ],
      "metadata": {
        "id": "pP-t9UJW1qg2"
      }
    },
    {
      "cell_type": "markdown",
      "source": [
        "#What are the challenges associated with memory management in Python\n",
        "Even though Python manages memory **automatically** with reference counting and garbage collection, there are still **challenges** developers should be aware of.\n",
        "\n",
        "#Challenges in Memory Management in Python\n",
        "\n",
        "### 1. **Global Interpreter Lock (GIL)**\n",
        "\n",
        "* In CPython (the standard Python implementation), only **one thread executes Python bytecode at a time**, even on multi-core processors.\n",
        "* This limits true parallelism in **CPU-bound** programs.\n",
        "* Developers often need to use **multiprocessing** instead of multithreading for CPU-heavy tasks, which increases memory usage.\n",
        "\n",
        "### 2. **Circular References**\n",
        "\n",
        "* Python uses reference counting, but **objects that reference each other** may never reach a reference count of zero.\n",
        "\n",
        "* Python’s **garbage collector** can clean these up, but not always immediately, and sometimes with overhead.\n",
        "\n",
        "### 3. **Memory Leaks**\n",
        "\n",
        "* Caused when objects are unintentionally kept alive (e.g., via lingering references in data structures, caches, or global variables).\n",
        "* Example: forgetting to remove an object from a list or dictionary keeps it in memory.\n",
        "* In long-running applications (like web servers), this can slowly exhaust memory.\n",
        "\n",
        "### 4. **High Memory Usage of Objects**\n",
        "\n",
        "* Python objects carry extra metadata (like reference counts, type info, etc.).\n",
        "* This makes Python memory-hungry compared to low-level languages like C or C++.\n",
        "* For large datasets, this can cause performance issues. (→ Often solved using `numpy`, which stores data in compact C arrays).\n",
        "\n",
        "### 5. **Fragmentation**\n",
        "\n",
        "* Memory can become fragmented due to many small allocations and deallocations.\n",
        "* This may cause Python to **hold onto memory** even after objects are freed, leading to higher memory usage than expected.\n",
        "\n",
        "### 6. **Garbage Collector Overhead**\n",
        "\n",
        "* The garbage collector occasionally pauses execution to clean up memory.\n",
        "* For real-time or performance-critical applications, these pauses can be problematic\n",
        "\n",
        "### 7. **Difficulty Debugging Memory Issues**\n",
        "\n",
        "* Finding memory leaks or tracking object references is not always straightforward.\n",
        "* Tools like `gc` module, `tracemalloc`, or external profilers are often needed."
      ],
      "metadata": {
        "id": "uGdqfYnX1qp_"
      }
    },
    {
      "cell_type": "markdown",
      "source": [
        "#How do you raise an exception manually in Python\n",
        "In Python, you can raise an exception manually using the raise keyword. This is useful when you want to signal that something unexpected has happened in your program.\n",
        "\n",
        "    raise ExceptionType(\"Error message\")\n",
        "\n",
        "ExceptionType → the type of exception (e.g., ValueError, TypeError, RuntimeError, or even a custom exception).\n",
        "\n",
        "\"Error message\" → an optional string describing the error.\n"
      ],
      "metadata": {
        "id": "cWYMgrAB1qsB"
      }
    },
    {
      "cell_type": "markdown",
      "source": [
        "#Why is it important to use multithreading in certain applications?\n",
        "it allows a program to run multiple tasks concurrently within the same process. This can significantly improve performance and responsiveness, especially for tasks that would otherwise block execution.\n",
        "    Keeps applications responsive.\n",
        "\n",
        "    Makes I/O operations more efficient.\n",
        "\n",
        "    Handles many tasks at once (like client connections).\n",
        "    \n",
        "    Uses resources more effectively."
      ],
      "metadata": {
        "id": "D_2MqKpU1qvZ"
      }
    },
    {
      "cell_type": "code",
      "source": [
        "#How can you open a file for writing in Python and write a string to it\n",
        "file= open(\"file.txt\",\"w\")\n",
        "file.write(\"file is created\")\n",
        "file.close()\n"
      ],
      "metadata": {
        "id": "OvKOnh8_9an2"
      },
      "execution_count": null,
      "outputs": []
    },
    {
      "cell_type": "code",
      "source": [
        "#Write a Python program to read the contents of a file and print each line\n",
        "file= open(\"file.txt1\",\"w\")\n",
        "file.write(\"i am akanksha\\n\")\n",
        "file.write(\"data science\\n\")\n",
        "file.write(\"mangodb\\n\")\n",
        "file.close()\n",
        "file=open(\"file.txt1\",\"r\")\n",
        "for line in file:\n",
        "    print(line.strip())\n",
        "file.close()\n"
      ],
      "metadata": {
        "colab": {
          "base_uri": "https://localhost:8080/"
        },
        "id": "cBKDCWOv-f2b",
        "outputId": "160ef446-031d-4249-c467-42a93f39027f"
      },
      "execution_count": 37,
      "outputs": [
        {
          "output_type": "stream",
          "name": "stdout",
          "text": [
            "i am akanksha\n",
            "data science\n",
            "mangodb\n"
          ]
        }
      ]
    },
    {
      "cell_type": "code",
      "source": [
        "#How would you handle a case where the file doesn't exist while trying to open it for reading\n",
        "try:\n",
        "    file = open(\"file.txt4\", \"r\")\n",
        "    print(file.read())\n",
        "    file.close()\n",
        "except FileNotFoundError:\n",
        "    print(\"Error: The file does not exist. Please check the file name or path.\")\n"
      ],
      "metadata": {
        "id": "HYkrR2I7HBaT",
        "colab": {
          "base_uri": "https://localhost:8080/"
        },
        "outputId": "64b45831-39b9-446a-971a-18ae3ca280bb"
      },
      "execution_count": null,
      "outputs": [
        {
          "output_type": "stream",
          "name": "stdout",
          "text": [
            "Error: The file does not exist. Please check the file name or path.\n"
          ]
        }
      ]
    },
    {
      "cell_type": "code",
      "source": [
        "#Write a Python script that reads from one file and writes its content to another file\n",
        "# Python script to copy contents from one file to another\n",
        "\n",
        "source_file_name = \"source.txt\"\n",
        "destination_file_name = \"destination.txt\"\n",
        "\n",
        "try:\n",
        "    with open(source_file_name, \"r\") as source_file:\n",
        "        content = source_file.read()\n",
        "\n",
        "    with open(destination_file_name, \"w\") as destination_file:\n",
        "        destination_file.write(content)\n",
        "\n",
        "    print(f\"Contents copied from '{source_file_name}' to '{destination_file_name}' successfully!\")\n",
        "\n",
        "except FileNotFoundError:\n",
        "    print(f\"Error: The file '{source_file_name}' was not found.\")\n",
        "except Exception as e:\n",
        "    print(f\"An error occurred: {e}\")\n",
        "\n"
      ],
      "metadata": {
        "colab": {
          "base_uri": "https://localhost:8080/"
        },
        "id": "wS6QNXgWH9tR",
        "outputId": "527295f0-7c7f-43e3-8ec2-10f27eff3d38"
      },
      "execution_count": null,
      "outputs": [
        {
          "output_type": "stream",
          "name": "stdout",
          "text": [
            "Error: The file 'source.txt' was not found.\n"
          ]
        }
      ]
    },
    {
      "cell_type": "code",
      "source": [
        "#How would you catch and handle division by zero error in Python\n",
        "try:\n",
        "  10/0\n",
        "except ZeroDivisionError as e:\n",
        "    print(\"here i am handling the dvision by zero error\",e)\n"
      ],
      "metadata": {
        "colab": {
          "base_uri": "https://localhost:8080/"
        },
        "id": "RWLk_r9AMAJo",
        "outputId": "ba0bdc9c-6e3a-474a-f7f0-0c56bcf07da5"
      },
      "execution_count": null,
      "outputs": [
        {
          "output_type": "stream",
          "name": "stdout",
          "text": [
            "here i am handling the dvision by zero error division by zero\n"
          ]
        }
      ]
    },
    {
      "cell_type": "code",
      "source": [
        "#Write a Python program that logs an error message to a log file when a division by zero exception occurs\n",
        "import logging\n",
        "logging.basicConfig(filename=\"error.log\",\n",
        "                    level=logging.ERROR,\n",
        "                    format=\"%(asctime)s - %(levelname)s - %(message)s\")\n",
        "\n",
        "def divide(a, b):\n",
        "    try:\n",
        "        return a / b\n",
        "    except ZeroDivisionError as e:\n",
        "        logging.error(\"Division by zero error occurred: %s\", e)\n",
        "        print(\"An error occurred! Check error.log for details.\")\n",
        "result = divide(10, 0)   # This will cause division by zero\n"
      ],
      "metadata": {
        "colab": {
          "base_uri": "https://localhost:8080/"
        },
        "id": "jv1LqRJDNPwu",
        "outputId": "0fbde98f-675e-434e-e53d-b1d595ab0a5d"
      },
      "execution_count": null,
      "outputs": [
        {
          "output_type": "stream",
          "name": "stderr",
          "text": [
            "ERROR:root:Division by zero error occurred: division by zero\n"
          ]
        },
        {
          "output_type": "stream",
          "name": "stdout",
          "text": [
            "An error occurred! Check error.log for details.\n"
          ]
        }
      ]
    },
    {
      "cell_type": "code",
      "source": [
        "#How do you log information at different levels (INFO, ERROR, WARNING) in Python using the logging module\n",
        "import logging\n",
        "logging.basicConfig(filename=\"test_new.log\",level=logging,formate='%(asctime)s %(message)s')\n",
        "logging.debug(\"this msg is for debug\")\n",
        "logging.info(\"this is info\")\n",
        "logging.warning(\"this is warning\")\n",
        "logging.shutdown()\n"
      ],
      "metadata": {
        "colab": {
          "base_uri": "https://localhost:8080/"
        },
        "id": "VE96r--jgUEn",
        "outputId": "496d3577-5fc5-460c-d687-b51fac544fef"
      },
      "execution_count": null,
      "outputs": [
        {
          "output_type": "stream",
          "name": "stderr",
          "text": [
            "WARNING:root:this is warning\n"
          ]
        }
      ]
    },
    {
      "cell_type": "code",
      "source": [
        "#Write a program to handle a file opening error using exception handling\n",
        "def read_file(filename):\n",
        "    try:\n",
        "        with open(filename, \"r\") as file:\n",
        "            data = file.read()\n",
        "            print(\"File content:\\n\", data)\n",
        "    except FileNotFoundError:\n",
        "        print(f\"Error: The file '{filename}' was not found.\")\n",
        "    except PermissionError:\n",
        "        print(f\"Error: You don't have permission to open '{filename}'.\")\n",
        "    except Exception as e:\n",
        "        print(f\"An unexpected error occurred: {e}\")\n",
        "\n",
        "read_file(\"sample.txt\")\n"
      ],
      "metadata": {
        "colab": {
          "base_uri": "https://localhost:8080/"
        },
        "id": "E6aJFQjaikFe",
        "outputId": "8479da24-bdc0-4b38-a6f0-cc684324d7e1"
      },
      "execution_count": null,
      "outputs": [
        {
          "output_type": "stream",
          "name": "stdout",
          "text": [
            "Error: The file 'sample.txt' was not found.\n"
          ]
        }
      ]
    },
    {
      "cell_type": "code",
      "source": [
        "#How can you read a file line by line and store its content in a list in Python\n",
        "lines = []\n",
        "with open(\"file.txt\", \"r\") as file:\n",
        "    for line in file:\n",
        "        lines.append(line.strip())\n",
        "\n",
        "print(lines)\n"
      ],
      "metadata": {
        "colab": {
          "base_uri": "https://localhost:8080/"
        },
        "id": "QwVZX-8hj9-L",
        "outputId": "6d4652d2-a183-4493-ada3-734af7a73bfa"
      },
      "execution_count": null,
      "outputs": [
        {
          "output_type": "stream",
          "name": "stdout",
          "text": [
            "['file is created']\n"
          ]
        }
      ]
    },
    {
      "cell_type": "code",
      "source": [
        "#How can you append data to an existing file in Python\n",
        "file=open(\"file.txt\",\"a\")\n",
        "file.write(\"\\n,append file created\")\n",
        "file.close()"
      ],
      "metadata": {
        "id": "PD_YCfwGqIvx"
      },
      "execution_count": null,
      "outputs": []
    },
    {
      "cell_type": "code",
      "source": [
        "#Write a Python program that uses a try-except block to handle an error when attempting to access a\n",
        "#dictionary key that doesn't exist\n",
        "\n",
        "my_dict = {\n",
        "    \"name\": \"Akanksha\",\n",
        "    \"age\": 25\n",
        "}\n",
        "key_to_access = \"city\"\n",
        "\n",
        "try:\n",
        "    value = my_dict[key_to_access]\n",
        "    print(f\"The value for '{key_to_access}' is {value}.\")\n",
        "except KeyError:\n",
        "    print(f\"Error: The key '{key_to_access}' does not exist in the dictionary.\")\n",
        "\n"
      ],
      "metadata": {
        "colab": {
          "base_uri": "https://localhost:8080/"
        },
        "id": "2AIwU4wttXpu",
        "outputId": "a0a4992f-dfb6-46b1-a21c-fa204e5ce585"
      },
      "execution_count": null,
      "outputs": [
        {
          "output_type": "stream",
          "name": "stdout",
          "text": [
            "Error: The key 'city' does not exist in the dictionary.\n"
          ]
        }
      ]
    },
    {
      "cell_type": "code",
      "source": [
        "#Write a program that demonstrates using multiple except blocks to handle different types of exceptions\n",
        "try:\n",
        "    num1 = int(input(\"Enter a number: \"))\n",
        "    num2 = int(input(\"Enter another number: \"))\n",
        "    print(\"Result:\", num1 / num2)\n",
        "\n",
        "except ValueError:\n",
        "    print(\"Error: Please enter only numbers.\")\n",
        "except ZeroDivisionError:\n",
        "    print(\"Error: Cannot divide by zero.\")\n",
        "\n"
      ],
      "metadata": {
        "id": "WB08Hcx-t-nj",
        "colab": {
          "base_uri": "https://localhost:8080/"
        },
        "outputId": "8e2fa053-e82a-46f5-dd9d-44d34e49d1a1"
      },
      "execution_count": 14,
      "outputs": [
        {
          "output_type": "stream",
          "name": "stdout",
          "text": [
            "Enter a number: 10\n",
            "Enter another number: 0\n",
            "Error: Cannot divide by zero.\n"
          ]
        }
      ]
    },
    {
      "cell_type": "code",
      "source": [
        "#How would you check if a file exists before attempting to read it in Python\n",
        "filename = \"myfile.txt\"\n",
        "\n",
        "try:\n",
        "    with open(filename, \"r\") as f:\n",
        "        print(f.read())\n",
        "except FileNotFoundError:\n",
        "    print(\"File does not exist.\")\n"
      ],
      "metadata": {
        "colab": {
          "base_uri": "https://localhost:8080/"
        },
        "id": "I86BP1XO8gTU",
        "outputId": "3659691d-8d71-4327-8559-15d787b4ff1d"
      },
      "execution_count": 17,
      "outputs": [
        {
          "output_type": "stream",
          "name": "stdout",
          "text": [
            "File does not exist.\n"
          ]
        }
      ]
    },
    {
      "cell_type": "code",
      "source": [
        "#Write a program that uses the logging module to log both informational and error messages\n",
        "import logging\n",
        "logging.basicConfig(\n",
        "    filename=\"program.log\",\n",
        "    level=logging.DEBUG,\n",
        "    format=\"%(asctime)s - %(levelname)s - %(message)s\"\n",
        ")\n",
        "\n",
        "try:\n",
        "    logging.info(\"Attempting to open the file...\")\n",
        "    f = open(\"example.txt\", \"r\")\n",
        "    data = f.read()\n",
        "    logging.info(\"File read successfully.\")\n",
        "    f.close()\n",
        "\n",
        "except FileNotFoundError as e:\n",
        "    logging.error(f\"The file was not found: {e}\")"
      ],
      "metadata": {
        "colab": {
          "base_uri": "https://localhost:8080/"
        },
        "id": "sGcBhrRy_DCb",
        "outputId": "03b722ef-7757-4dee-a8dd-eaa99835f6bd"
      },
      "execution_count": 31,
      "outputs": [
        {
          "output_type": "stream",
          "name": "stderr",
          "text": [
            "ERROR:root:The file was not found: [Errno 2] No such file or directory: 'example.txt'\n"
          ]
        }
      ]
    },
    {
      "cell_type": "code",
      "source": [
        "#Write a Python program that prints the content of a file and handles the case when the file is empty\n",
        "file=open(\"myfile.txt1\",\"w\")\n",
        "print(\"my file is created\")\n",
        "file.close()\n",
        "try:\n",
        "    with open(\"myfile.txt1\", \"r\") as f:\n",
        "        content = f.read()\n",
        "        if content.strip() == \"\":\n",
        "            print(\"The file is empty.\")\n",
        "        else:\n",
        "            print(\"File content:\\n\", content)\n",
        "except FileNotFoundError:\n",
        "    print(\"Error: File does not exist.\")\n"
      ],
      "metadata": {
        "colab": {
          "base_uri": "https://localhost:8080/"
        },
        "id": "E83ewtZWAVl8",
        "outputId": "20404239-0eca-4f7c-9877-70eb080dc289"
      },
      "execution_count": 38,
      "outputs": [
        {
          "output_type": "stream",
          "name": "stdout",
          "text": [
            "my file is created\n",
            "The file is empty.\n"
          ]
        }
      ]
    },
    {
      "cell_type": "code",
      "source": [
        "#Demonstrate how to use memory profiling to check the memory usage of a small program\n"
      ],
      "metadata": {
        "id": "uF-FpbsBDbsx"
      },
      "execution_count": null,
      "outputs": []
    },
    {
      "cell_type": "code",
      "source": [
        "#Write a Python program to create and write a list of numbers to a file, one number per line\n",
        "\n",
        "numbers = [1, 2, 3, 4, 5, 6, 7, 8, 9, 10]\n",
        "\n",
        "with open(\"numbers.txt\", \"w\") as file:\n",
        "    for num in numbers:\n",
        "        file.write(str(num) + \"\\n\")\n",
        "\n",
        "print(\"Numbers written to numbers.txt successfully!\")"
      ],
      "metadata": {
        "colab": {
          "base_uri": "https://localhost:8080/"
        },
        "id": "gwvuDVOVDwAw",
        "outputId": "62d61726-16c1-479f-998e-f44ff73dc0be"
      },
      "execution_count": 4,
      "outputs": [
        {
          "output_type": "stream",
          "name": "stdout",
          "text": [
            "Numbers written to numbers.txt successfully!\n"
          ]
        }
      ]
    },
    {
      "cell_type": "code",
      "source": [
        "#How would you implement a basic logging setup that logs to a file with rotation after 1MB\n",
        "import logging\n",
        "from logging.handlers import RotatingFileHandler\n",
        "logger = logging.getLogger(\"MyLogger\")\n",
        "logger.setLevel(logging.INFO)\n",
        "handler = RotatingFileHandler(\n",
        "    \"app.log\", maxBytes=1_000_000, backupCount=3\n",
        ")\n",
        "formatter = logging.Formatter(\"%(asctime)s - %(levelname)s - %(message)s\")\n",
        "handler.setFormatter(formatter)\n",
        "logger.addHandler(handler)\n",
        "\n",
        "for i in range(100):\n",
        "    logger.info(f\"This is log message number {i+1}\")\n",
        "\n"
      ],
      "metadata": {
        "colab": {
          "base_uri": "https://localhost:8080/"
        },
        "id": "oYdJZZlzDzy9",
        "outputId": "99d2fcf9-9ca6-499d-dc0f-e911ac2f21e2"
      },
      "execution_count": 14,
      "outputs": [
        {
          "output_type": "stream",
          "name": "stderr",
          "text": [
            "INFO:MyLogger:This is log message number 1\n",
            "INFO:MyLogger:This is log message number 2\n",
            "INFO:MyLogger:This is log message number 3\n",
            "INFO:MyLogger:This is log message number 4\n",
            "INFO:MyLogger:This is log message number 5\n",
            "INFO:MyLogger:This is log message number 6\n",
            "INFO:MyLogger:This is log message number 7\n",
            "INFO:MyLogger:This is log message number 8\n",
            "INFO:MyLogger:This is log message number 9\n",
            "INFO:MyLogger:This is log message number 10\n"
          ]
        }
      ]
    },
    {
      "cell_type": "code",
      "source": [
        "#Write a program that handles both IndexError and KeyError using a try-except block\n",
        "my_dict = {\n",
        "    \"name\": \"Akanksha\",\n",
        "    \"age\": 25\n",
        "}\n",
        "my_list = [10, 20, 30]\n",
        "\n",
        "key_to_access = \"city\"\n",
        "index_to_access = 5\n",
        "\n",
        "try:\n",
        "    value = my_dict[key_to_access]\n",
        "    print(f\"The value for '{key_to_access}' is {value}.\")\n",
        "\n",
        "except KeyError:\n",
        "    print(f\"Error: The key '{key_to_access}' does not exist in the dictionary.\")\n",
        "\n",
        "try:\n",
        "    print(\"List element:\", my_list[index_to_access])\n",
        "except IndexError:\n",
        "\n",
        "\n",
        "  print(f\"Error: The index {index_to_access} is out of range for the list.\")\n",
        "\n",
        "\n"
      ],
      "metadata": {
        "colab": {
          "base_uri": "https://localhost:8080/"
        },
        "id": "HnvC5z_3D7gA",
        "outputId": "07842e6a-4142-4af7-8244-ccf9b3f30f27"
      },
      "execution_count": 3,
      "outputs": [
        {
          "output_type": "stream",
          "name": "stdout",
          "text": [
            "Error: The key 'city' does not exist in the dictionary.\n",
            "Error: The index 5 is out of range for the list.\n"
          ]
        }
      ]
    },
    {
      "cell_type": "code",
      "source": [
        "#How would you open a file and read its contents using a context manager in Python\n",
        "\n",
        "with open(\"numbers.txt\", \"r\") as file:\n",
        "    contents = file.read()\n",
        "    print(contents)\n",
        "\n",
        "# No need to explicitly close the file; it's done automatically\n"
      ],
      "metadata": {
        "colab": {
          "base_uri": "https://localhost:8080/"
        },
        "id": "hnof2pNlEFLY",
        "outputId": "589dab08-ca6d-4efd-c407-20d19d147789"
      },
      "execution_count": 7,
      "outputs": [
        {
          "output_type": "stream",
          "name": "stdout",
          "text": [
            "1\n",
            "2\n",
            "3\n",
            "4\n",
            "5\n",
            "6\n",
            "7\n",
            "8\n",
            "9\n",
            "10\n",
            "\n"
          ]
        }
      ]
    },
    {
      "cell_type": "code",
      "source": [
        "#Write a Python program that reads a file and prints the number of occurrences of a specific word\n",
        "filename = input(\"Enter the filename: \")\n",
        "word_to_count = input(\"Enter the word to count: \")\n",
        "\n",
        "count = 0\n",
        "with open(filename, \"r\") as file:\n",
        "    for line in file:\n",
        "        words = line.split()\n",
        "        count += words.count(word_to_count)\n",
        "\n",
        "print(f\"The word '{word_to_count}' appears {count} times in the file.\")\n"
      ],
      "metadata": {
        "id": "kG_rRbJyENTh"
      },
      "execution_count": null,
      "outputs": []
    },
    {
      "cell_type": "code",
      "source": [
        "#How can you check if a file is empty before attempting to read its contents\n",
        "filename = \"example.txt\"\n",
        "\n",
        "with open(filename, \"r\") as file:\n",
        "    contents = file.read()\n",
        "    if contents:\n",
        "        print(contents)\n",
        "    else:\n",
        "        print(\"The file is empty.\")\n"
      ],
      "metadata": {
        "id": "fKItE_ZFETWf"
      },
      "execution_count": null,
      "outputs": []
    },
    {
      "cell_type": "code",
      "source": [
        "#Write a Python program that writes to a log file when an error occurs during file handling\n",
        "import logging\n",
        "logging.basicConfig(\n",
        "    filename=\"error_log.txt\",\n",
        "    level=logging.ERROR,\n",
        "    format=\"%(asctime)s - %(levelname)s - %(message)s\"\n",
        ")\n",
        "\n",
        "filename = \"example.txt\"\n",
        "\n",
        "try:\n",
        "    with open(filename, \"r\") as file:\n",
        "        contents = file.read()\n",
        "        print(contents)\n",
        "\n",
        "except FileNotFoundError as e:\n",
        "    print(\"File not found!\")\n",
        "    logging.error(f\"FileNotFoundError: {e}\")\n",
        "\n",
        "except IOError as e:\n",
        "    print(\"An I/O error occurred!\")\n",
        "    logging.error(f\"IOError: {e}\")\n",
        "\n",
        "except Exception as e:\n",
        "    print(\"An unexpected error occurred!\")\n",
        "    logging.error(f\"Unexpected error: {e}\")\n"
      ],
      "metadata": {
        "colab": {
          "base_uri": "https://localhost:8080/"
        },
        "id": "wb6K1tEjEVuk",
        "outputId": "62bda159-2c97-419c-e9ed-78a5fc75f515"
      },
      "execution_count": 9,
      "outputs": [
        {
          "output_type": "stream",
          "name": "stderr",
          "text": [
            "ERROR:root:FileNotFoundError: [Errno 2] No such file or directory: 'example.txt'\n"
          ]
        },
        {
          "output_type": "stream",
          "name": "stdout",
          "text": [
            "File not found!\n"
          ]
        }
      ]
    },
    {
      "cell_type": "markdown",
      "source": [],
      "metadata": {
        "id": "hkHmtwSk2_SH"
      }
    }
  ]
}